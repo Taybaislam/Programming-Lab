{
 "cells": [
  {
   "cell_type": "code",
   "execution_count": null,
   "metadata": {},
   "outputs": [],
   "source": [
    "# Name Tayba islam \n",
    "#roll no. SP25-BBD-078\n",
    "# Task no. 1\n"
   ]
  },
  {
   "cell_type": "code",
   "execution_count": 26,
   "metadata": {},
   "outputs": [
    {
     "name": "stdout",
     "output_type": "stream",
     "text": [
      "2\n",
      "4\n",
      "6\n",
      "8\n",
      "10\n",
      "12\n",
      "14\n",
      "16\n",
      "18\n",
      "20\n"
     ]
    }
   ],
   "source": [
    "#1.Write a for loop to print all even numbers from 2 to 20.\n",
    "for i in range(2,21,2):\n",
    "    print(i)"
   ]
  },
  {
   "cell_type": "code",
   "execution_count": 27,
   "metadata": {},
   "outputs": [
    {
     "name": "stdout",
     "output_type": "stream",
     "text": [
      "SHIZA\n",
      "FIZA\n",
      "ALIA\n",
      "NOOR\n",
      "ESHAL\n",
      "MAHAM\n"
     ]
    }
   ],
   "source": [
    "#2.Create a list of names and use a for loop to print each name in uppercase.\n",
    "names=['shiza','fiza','alia','noor','eshal','maham']\n",
    "for name in names:\n",
    "    print(name.upper())"
   ]
  },
  {
   "cell_type": "code",
   "execution_count": 28,
   "metadata": {},
   "outputs": [
    {
     "name": "stdout",
     "output_type": "stream",
     "text": [
      "10\n",
      "9\n",
      "8\n",
      "7\n",
      "6\n",
      "5\n",
      "4\n",
      "3\n",
      "2\n",
      "1\n"
     ]
    }
   ],
   "source": [
    "#3.Use a for loop with range() to print numbers from 10 to 1 in reverse order.\n",
    "for i in range (10,0,-1):\n",
    "    print(i)"
   ]
  },
  {
   "cell_type": "code",
   "execution_count": 29,
   "metadata": {},
   "outputs": [
    {
     "name": "stdout",
     "output_type": "stream",
     "text": [
      "3\n",
      "6\n",
      "9\n",
      "0\n",
      "12\n"
     ]
    }
   ],
   "source": [
    "#4.Iterate through a list of integers and print only the numbers that are divisible by 3.\n",
    "integer=[1,2,3,4,5,6,7,8,9,0,12]\n",
    "for i in integer:\n",
    "    if i%3==0:\n",
    "        print(i)"
   ]
  },
  {
   "cell_type": "code",
   "execution_count": 30,
   "metadata": {},
   "outputs": [
    {
     "name": "stdout",
     "output_type": "stream",
     "text": [
      "1\n",
      "4\n",
      "9\n",
      "16\n",
      "25\n",
      "36\n",
      "49\n",
      "64\n",
      "81\n",
      "100\n"
     ]
    }
   ],
   "source": [
    "#5.Write a loop that prints the squares of numbers from 1 to 10.\n",
    "for i in range(1,11):\n",
    "    square=i**2\n",
    "    print(square)"
   ]
  },
  {
   "cell_type": "code",
   "execution_count": 35,
   "metadata": {},
   "outputs": [
    {
     "name": "stdout",
     "output_type": "stream",
     "text": [
      "12 C is equal to 53.6 F\n",
      "16 C is equal to 60.8 F\n",
      "18 C is equal to 64.4 F\n",
      "25 C is equal to 77.0 F\n",
      "19 C is equal to 66.2 F\n",
      "30 C is equal to 86.0 F\n"
     ]
    }
   ],
   "source": [
    "#6.Given a list of temperatures in Celsius, use a for loop to convert each to Fahrenheit.\n",
    "temp_c=[12,16,18,25,19,30]\n",
    "# as we know °F=(°C×1.8)+32\n",
    "for i in temp_c:\n",
    "    b=(i*1.8)+32\n",
    "    print(f\"{i} C is equal to {b} F\")"
   ]
  },
  {
   "cell_type": "code",
   "execution_count": 41,
   "metadata": {},
   "outputs": [
    {
     "name": "stdout",
     "output_type": "stream",
     "text": [
      "5\n",
      "10\n",
      "15\n",
      "20\n",
      "25\n",
      "30\n",
      "35\n",
      "40\n",
      "45\n",
      "50\n"
     ]
    }
   ],
   "source": [
    "#7.Create a for loop that prints the multiplication table of 5.\n",
    "for i in range(5, 51, 5):\n",
    "    print(i)"
   ]
  },
  {
   "cell_type": "code",
   "execution_count": 48,
   "metadata": {},
   "outputs": [
    {
     "name": "stdout",
     "output_type": "stream",
     "text": [
      "1\n",
      "3\n",
      "7\n",
      "13\n",
      "21\n",
      "33\n"
     ]
    }
   ],
   "source": [
    "#8.Write a program to find the sum of all numbers in a list using a for loop.\n",
    "num=[1,2,4,6,8,12]\n",
    "total=0\n",
    "for i in num:\n",
    "    total += i \n",
    "    print(total)"
   ]
  },
  {
   "cell_type": "code",
   "execution_count": 51,
   "metadata": {},
   "outputs": [
    {
     "name": "stdout",
     "output_type": "stream",
     "text": [
      "<class 'str'>\n",
      "m\n",
      "y\n",
      " \n",
      "n\n",
      "a\n",
      "m\n",
      "e\n",
      " \n",
      "i\n",
      "s\n",
      " \n",
      "M\n",
      "a\n",
      "h\n",
      "a\n",
      "m\n"
     ]
    }
   ],
   "source": [
    "#9.Use a for loop to iterate through a string and print each character separately.\n",
    "name=(\"my name is Maham\")\n",
    "print(type(name))\n",
    "for i in name:\n",
    "    print(i)"
   ]
  },
  {
   "cell_type": "code",
   "execution_count": 55,
   "metadata": {},
   "outputs": [
    {
     "name": "stdout",
     "output_type": "stream",
     "text": [
      "quratulain\n",
      "pakeeza\n",
      "fareena\n",
      "not available\n"
     ]
    }
   ],
   "source": [
    "#10.Create a list of words and use a for loop to print only the words with more than 5 letters\n",
    "name=['alia','maham','quratulain','pakeeza','eshal','fareena']\n",
    "for i in name:\n",
    "    if len(i)>5:\n",
    "        print(i)\n",
    "else:\n",
    "    print(\"not available\")"
   ]
  }
 ],
 "metadata": {
  "kernelspec": {
   "display_name": "Python 3",
   "language": "python",
   "name": "python3"
  },
  "language_info": {
   "codemirror_mode": {
    "name": "ipython",
    "version": 3
   },
   "file_extension": ".py",
   "mimetype": "text/x-python",
   "name": "python",
   "nbconvert_exporter": "python",
   "pygments_lexer": "ipython3",
   "version": "3.12.4"
  }
 },
 "nbformat": 4,
 "nbformat_minor": 2
}
