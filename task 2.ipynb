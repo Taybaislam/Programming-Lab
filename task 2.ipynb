{
 "cells": [
  {
   "cell_type": "code",
   "execution_count": null,
   "id": "8218322e",
   "metadata": {},
   "outputs": [],
   "source": [
    "                 #SP25-BBD-078\n",
    "                #TAYBA ISLAM\n",
    "                    #TASK 2\n",
    "#CONDITIONAL STATEMENTS , IF -ELSE STATEMENTS\n"
   ]
  },
  {
   "cell_type": "code",
   "execution_count": null,
   "id": "f054f843",
   "metadata": {},
   "outputs": [
    {
     "name": "stdout",
     "output_type": "stream",
     "text": [
      "number is positive\n"
     ]
    }
   ],
   "source": [
    "#1Write a program to check if a number is positive, negative, or zero.\n",
    "num=int(input(\"enter your number:\"))\n",
    "if num>0:\n",
    "    print(\"number is positive\")\n",
    "elif num<0:\n",
    "    print(\"number is negative\")\n",
    "else:\n",
    "    print(\"number is zero\")\n",
    "\n"
   ]
  },
  {
   "cell_type": "code",
   "execution_count": null,
   "id": "933d927b",
   "metadata": {},
   "outputs": [
    {
     "name": "stdout",
     "output_type": "stream",
     "text": [
      "2003 not a leap year.\n"
     ]
    }
   ],
   "source": [
    "#2Create a program to determine whether a given year is a leap year.\n",
    "# a year is a leap year if it is divisible by 4 and 400  and is not divisibe by 100\n",
    "year=int(input(\"enter year:\"))\n",
    "if year % 4==0 and year%100 !=0 and year%100==0:\n",
    "    print(\"its a leap year\")\n",
    "else:\n",
    "    print(f\"{year} not a leap year.\")"
   ]
  },
  {
   "cell_type": "code",
   "execution_count": null,
   "id": "f79ee93c",
   "metadata": {},
   "outputs": [
    {
     "name": "stdout",
     "output_type": "stream",
     "text": [
      "25.0\n"
     ]
    }
   ],
   "source": [
    "#3 Build a simple calculator that asks for two numbers and an operator (+, -, *, /) and prints the result.\n",
    "num1=float(input(\"enter num1:\"))\n",
    "num2=float(input(\"enter num 2:\"))\n",
    "operator=input(\"enter operator:(+,-,*,/)\")\n",
    "if operator ==\"+\":\n",
    "    print(num1 + num2)\n",
    "elif operator==\"-\":\n",
    "    print(num1-num2)\n",
    "elif operator==\"*\":\n",
    "    print(num1*num2)\n",
    "elif operator==\"/\":\n",
    "    print(num1/num2)"
   ]
  },
  {
   "cell_type": "code",
   "execution_count": 4,
   "id": "fcc385fd",
   "metadata": {},
   "outputs": [
    {
     "name": "stdout",
     "output_type": "stream",
     "text": [
      "you got grade B\n"
     ]
    }
   ],
   "source": [
    "#4 Write a Python program that accepts a student's marks and prints the appropriate grade \n",
    "# based on the following criteria:A: 85 and above B: 70 to 84 C: 50 to 69 F: Below 50\n",
    "marks=int(input(\"enter your marks:\"))\n",
    "if marks>=85:\n",
    "    print(\"grade A\")\n",
    "elif marks>=70:\n",
    "    print(\"you got grade B\")\n",
    "elif marks>=50:\n",
    "    print(\"you got C grade\")\n",
    "elif marks<50:\n",
    "    print(\"you got F grade\")"
   ]
  },
  {
   "cell_type": "code",
   "execution_count": 5,
   "id": "96ab0c97",
   "metadata": {},
   "outputs": [
    {
     "name": "stdout",
     "output_type": "stream",
     "text": [
      "Eligible for membership.\n"
     ]
    }
   ],
   "source": [
    "#5Write a Python program that asks the user to enter their age and income.\n",
    "#If the user is 21 years or older and has an income above $25,000, print \"Eligible for \n",
    "#membership.\" Otherwise, print \"Not eligible.\"\n",
    "age=int(input(\"enter age:\"))\n",
    "income=int(input(\"enter income:\"))\n",
    "if age>=21 and income>25000:\n",
    "    print(\"Eligible for membership.\")\n",
    "else:\n",
    "    print(\"Not eligible\")"
   ]
  },
  {
   "cell_type": "code",
   "execution_count": null,
   "id": "3da9c88a",
   "metadata": {},
   "outputs": [
    {
     "name": "stdout",
     "output_type": "stream",
     "text": [
      "14\n"
     ]
    }
   ],
   "source": [
    "#6\n",
    "# Create a Python program that accepts a number from the user.\n",
    "#If the number is divisible by both 3 and 5, print \"FizzBuzz.\"\n",
    "#If only divisible by 3, print \"Fizz.\"\n",
    "#If only divisible by 5, print \"Buzz.\"\n",
    "#Otherwise, print the number itself\n",
    "num=int(input(\"enter your num:\"))\n",
    "if num % 3 ==0 and num % 5==0:\n",
    "    print(\"FizzBuzz\")\n",
    "elif num % 3==0 and num%5 !=0:\n",
    "    print(\"fizz\")  \n",
    "elif num%5==0 and num%3!=0:\n",
    "    print(\"buzz\")\n",
    "else:\n",
    "    print(num)\n",
    "\n",
    "    "
   ]
  },
  {
   "cell_type": "code",
   "execution_count": 14,
   "id": "944c88f2",
   "metadata": {},
   "outputs": [
    {
     "name": "stdout",
     "output_type": "stream",
     "text": [
      "might be a special character\n"
     ]
    }
   ],
   "source": [
    "#7 Write a Python script to determine if a character entered by the user is a vowel, \n",
    "#consonant, digit, or special character.\n",
    "#(Hint: use elif and logical operators.)\n",
    "character=input(\"enter character:\")\n",
    "vowel=(\"a\",\"e\",\"i\",\"o\",\"u\")\n",
    "if character.lower()in vowel:\n",
    "    print(\"character is vowel\")\n",
    "elif character not in vowel and not character.isdigit :\n",
    "    print(\"character is consonant\")\n",
    "elif character.isdigit():\n",
    "    print(\"character is digit\")\n",
    "else:\n",
    "    print(\"might be a special character\")\n",
    "    \n"
   ]
  },
  {
   "cell_type": "code",
   "execution_count": null,
   "id": "61449a6e",
   "metadata": {},
   "outputs": [
    {
     "name": "stdout",
     "output_type": "stream",
     "text": [
      "it is a weekend\n"
     ]
    }
   ],
   "source": [
    "#8-Develop a program where the user enters the current day name (e.g., Monday, Tuesday).\n",
    "#If it is Saturday or Sunday, print \"Enjoy your weekend!\"\n",
    "#If it is a weekday, print \"Time to work!\"\n",
    "#Use chained conditions with or.\n",
    "day_name= input(\"enter day_name:\")\n",
    "if day_name==\"saturday\" or day_name==\"sunday\":\n",
    "    print(\"it is a weekend\")\n",
    "else:\n",
    "    print(\"Time to work!\")"
   ]
  },
  {
   "cell_type": "code",
   "execution_count": null,
   "id": "9d765937",
   "metadata": {},
   "outputs": [
    {
     "name": "stdout",
     "output_type": "stream",
     "text": [
      "20% bonus availed\n",
      "5600.0\n"
     ]
    }
   ],
   "source": [
    "#.9-- A company offers bonuses to employees based on years of service:\n",
    "#10 or more years: 20% bonus\n",
    "#5 to 9 years: 10% bonus\n",
    "#Less than 5 years: 5% bonus\n",
    "#Write a program that asks the user for their years of service and current salary, then \n",
    "#prints the bonus amount.\n",
    "\n",
    "service=int(input(\"enter serice years:\"))\n",
    "salary=int(input(\"enter salary:\"))\n",
    "if service>=10:\n",
    "    print(\"20% bonus availed\")\n",
    "    print(salary*0.2)\n",
    "elif service>=5:\n",
    "    print(\"10% bonus availed\")\n",
    "    print(salary*0.10)\n",
    "elif service<5:\n",
    "    print(\"5% bonus availed\")\n",
    "    print(salary*0.05)"
   ]
  },
  {
   "cell_type": "code",
   "execution_count": 26,
   "id": "6f22c0b5",
   "metadata": {},
   "outputs": [
    {
     "name": "stdout",
     "output_type": "stream",
     "text": [
      "Number is 0\n"
     ]
    }
   ],
   "source": [
    "#10 --Write a Python program using nested if statements that checks:\n",
    "#If a number entered by the user is positive, negative, or zero.\n",
    "#If it is positive, also check whether it is even or odd and print the result.\n",
    "num = int(input(\"Enter your number: \"))\n",
    "\n",
    "if num == 0:\n",
    "    print(\"Number is 0\")\n",
    "elif num > 0:\n",
    "    if num % 2 == 0:\n",
    "        print(\"Number is positive and even\")\n",
    "    else:\n",
    "        print(\"Number is positive and odd\")\n",
    "else:\n",
    "    print(\"Number is negative\")\n",
    "\n"
   ]
  }
 ],
 "metadata": {
  "kernelspec": {
   "display_name": "Python 3",
   "language": "python",
   "name": "python3"
  },
  "language_info": {
   "codemirror_mode": {
    "name": "ipython",
    "version": 3
   },
   "file_extension": ".py",
   "mimetype": "text/x-python",
   "name": "python",
   "nbconvert_exporter": "python",
   "pygments_lexer": "ipython3",
   "version": "3.12.4"
  }
 },
 "nbformat": 4,
 "nbformat_minor": 5
}
